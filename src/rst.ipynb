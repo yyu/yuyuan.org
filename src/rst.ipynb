{
 "cells": [
  {
   "cell_type": "code",
   "execution_count": 1,
   "metadata": {},
   "outputs": [
    {
     "name": "stdout",
     "output_type": "stream",
     "text": [
      "['',\n",
      " '/Users/yy/anaconda3/lib/python36.zip',\n",
      " '/Users/yy/anaconda3/lib/python3.6',\n",
      " '/Users/yy/anaconda3/lib/python3.6/lib-dynload',\n",
      " '/Users/yy/anaconda3/lib/python3.6/site-packages',\n",
      " '/Users/yy/anaconda3/lib/python3.6/site-packages/aeosa',\n",
      " '/Users/yy/anaconda3/lib/python3.6/site-packages/IPython/extensions',\n",
      " '/Users/yy/.ipython']\n"
     ]
    }
   ],
   "source": [
    "import sys\n",
    "from pprint import pprint\n",
    "pprint(sys.path)"
   ]
  },
  {
   "cell_type": "markdown",
   "metadata": {},
   "source": [
    "-----"
   ]
  },
  {
   "cell_type": "code",
   "execution_count": 2,
   "metadata": {},
   "outputs": [],
   "source": [
    "import rsthack"
   ]
  },
  {
   "cell_type": "code",
   "execution_count": 3,
   "metadata": {},
   "outputs": [],
   "source": [
    "from docutils import core\n",
    "from docutils.writers.html4css1 import Writer,HTMLTranslator\n",
    "import sys, os\n",
    "\n",
    "class EnhancedHTMLTranslator(HTMLTranslator):\n",
    "    def __init__(self, document):\n",
    "        HTMLTranslator.__init__(self, document)\n",
    "\n",
    "        rsthack.massage_equations(document) # connect eqno and the reference\n",
    "\n",
    "        self.head_prefix = []\n",
    "        self.body_prefix = ['<script type=\"text/javascript\" src=\"http://cdn.mathjax.org/mathjax/latest/MathJax.js?config=TeX-AMS-MML_HTMLorMML\"> </script>']\n",
    "        self.body_suffix = []\n",
    "        self.stylesheet = ['<style>span.eqno{ float: right; }</style>']\n",
    "\n",
    "    def astext(self):\n",
    "        return ''.join(self.body)\n",
    "\n",
    "\n",
    "enhanced_html_writer = Writer()\n",
    "enhanced_html_writer.translator_class = EnhancedHTMLTranslator\n",
    "\n",
    "\n",
    "def rst_to_html(s):\n",
    "    return core.publish_string(s, writer = enhanced_html_writer)"
   ]
  },
  {
   "cell_type": "markdown",
   "metadata": {},
   "source": [
    "-----"
   ]
  },
  {
   "cell_type": "code",
   "execution_count": 4,
   "metadata": {},
   "outputs": [
    {
     "data": {
      "text/html": [
       "<!DOCTYPE html PUBLIC \"-//W3C//DTD XHTML 1.0 Transitional//EN\" \"http://www.w3.org/TR/xhtml1/DTD/xhtml1-transitional.dtd\">\n",
       "<html xmlns=\"http://www.w3.org/1999/xhtml\" xml:lang=\"en\" lang=\"en\">\n",
       "<head>\n",
       "<meta http-equiv=\"Content-Type\" content=\"text/html; charset=utf-8\" />\n",
       "<meta name=\"generator\" content=\"Docutils 0.14: http://docutils.sourceforge.net/\" />\n",
       "<title>Yuan &quot;Forrest&quot; Yu (于淵)</title>\n",
       "<style>span.eqno{ float: right; }</style>\n",
       "<script type=\"text/javascript\" src=\"http://cdn.mathjax.org/mathjax/latest/MathJax.js?config=TeX-AMS-MML_HTMLorMML\"> </script><div class=\"document\" id=\"yuan-forrest-yu\">\n",
       "<h1 class=\"title\">Yuan &quot;Forrest&quot; Yu (于淵)</h1>\n",
       "\n",
       "<p>Hi, I'm 于淵(Yu Yuan). You can call me Forrest, or YY, or Y². Feel free to look around.</p>\n",
       "<div class=\"section\" id=\"my-articles\">\n",
       "<h1>My articles</h1>\n",
       "<p>I have a very bad memory, so I take notes when I read and learn. Here are some of them.</p>\n",
       "<ul class=\"simple\">\n",
       "<li><a class=\"reference external\" href=\"BinomialCoefficients/\">Binomial Coefficients</a></li>\n",
       "<li><a class=\"reference external\" href=\"MathInreStructuredText/\">Math In reStructuredText</a></li>\n",
       "<li><a class=\"reference external\" href=\"RedBlackTreeTutorial/\">Red-Black Tree Tutorial</a></li>\n",
       "<li><a class=\"reference external\" href=\"GeneratingFunctionTutorial/\">Generating Function Tutorial</a></li>\n",
       "<li><a class=\"reference external\" href=\"MorrisAlgorithm/\">Morris Algorithm</a></li>\n",
       "</ul>\n",
       "</div>\n",
       "</div>\n"
      ],
      "text/plain": [
       "<IPython.core.display.HTML object>"
      ]
     },
     "metadata": {},
     "output_type": "display_data"
    }
   ],
   "source": [
    "from IPython.core.display import HTML\n",
    "\n",
    "with open('index.html.rst') as f:\n",
    "    txt = f.read()\n",
    "    html = rst_to_html(txt).decode('UTF-8')\n",
    "    display(HTML(html))\n",
    "    \n",
    "    with open('_www_/index.html', 'w') as ff:\n",
    "        ff.write(html)\n"
   ]
  },
  {
   "cell_type": "markdown",
   "metadata": {},
   "source": [
    "-----"
   ]
  }
 ],
 "metadata": {
  "kernelspec": {
   "display_name": "Python 3",
   "language": "python",
   "name": "python3"
  },
  "language_info": {
   "codemirror_mode": {
    "name": "ipython",
    "version": 3
   },
   "file_extension": ".py",
   "mimetype": "text/x-python",
   "name": "python",
   "nbconvert_exporter": "python",
   "pygments_lexer": "ipython3",
   "version": "3.6.4"
  }
 },
 "nbformat": 4,
 "nbformat_minor": 2
}
